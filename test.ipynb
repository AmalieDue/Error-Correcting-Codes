{
 "cells": [
  {
   "cell_type": "code",
   "execution_count": 271,
   "metadata": {},
   "outputs": [],
   "source": [
    "def cyclotomic_cosets(n,q,i_range):\n",
    "    cc = [0]*i_range\n",
    "    for i in range(0,i_range):\n",
    "        cc[i] = [(i * q**j) % n for j in range(0,n-1)]\n",
    "        cc[i] = list(set(cc[i]))\n",
    "        cc[i].sort()\n",
    "    return cc\n",
    "\n",
    "def minimal_polynomial(cc, x, a):\n",
    "    mp = 1\n",
    "    for j in range(len(cc)):\n",
    "        mp *= (x - a**cc[j])\n",
    "    return mp\n",
    "\n",
    "def BCH_generator_polynomial(FF,x,ell,cc):\n",
    "    mp = minimal_polynomial(cc[1], x, a)\n",
    "    for i in range(2,ell):\n",
    "        mp=LCM(mp,minimal_polynomial(cc[i],x,a))\n",
    "    return mp\n",
    "\n",
    "def BCH_code(generator_poly, n):\n",
    "    C = codes.CyclicCode(generator_pol = generator_poly, length = n)\n",
    "    print(\"Generator matrix:\")\n",
    "    print(C.generator_matrix())\n",
    "    print(\"Parity check matrix:\")\n",
    "    print(C.parity_check_matrix())\n",
    "    \n",
    "    \n",
    "    "
   ]
  },
  {
   "cell_type": "code",
   "execution_count": 273,
   "metadata": {},
   "outputs": [
    {
     "name": "stdout",
     "output_type": "stream",
     "text": [
      "Generator matrix:\n",
      "[1 1 1 0 1 1 0 0 1 0 1 0 0 0 0]\n",
      "[0 1 1 1 0 1 1 0 0 1 0 1 0 0 0]\n",
      "[0 0 1 1 1 0 1 1 0 0 1 0 1 0 0]\n",
      "[0 0 0 1 1 1 0 1 1 0 0 1 0 1 0]\n",
      "[0 0 0 0 1 1 1 0 1 1 0 0 1 0 1]\n",
      "Parity check matrix:\n",
      "[1 0 1 0 1 1 0 0 0 0 0 0 0 0 0]\n",
      "[0 1 0 1 0 1 1 0 0 0 0 0 0 0 0]\n",
      "[0 0 1 0 1 0 1 1 0 0 0 0 0 0 0]\n",
      "[0 0 0 1 0 1 0 1 1 0 0 0 0 0 0]\n",
      "[0 0 0 0 1 0 1 0 1 1 0 0 0 0 0]\n",
      "[0 0 0 0 0 1 0 1 0 1 1 0 0 0 0]\n",
      "[0 0 0 0 0 0 1 0 1 0 1 1 0 0 0]\n",
      "[0 0 0 0 0 0 0 1 0 1 0 1 1 0 0]\n",
      "[0 0 0 0 0 0 0 0 1 0 1 0 1 1 0]\n",
      "[0 0 0 0 0 0 0 0 0 1 0 1 0 1 1]\n"
     ]
    }
   ],
   "source": [
    "n = 15\n",
    "q = 2\n",
    "m = 4\n",
    "FF.<a> = GF(q**m,\"a\") # a is primitive element\n",
    "x = PolynomialRing(FF,\"x\").gen()\n",
    "ell = 6\n",
    "\n",
    "cc = cyclotomic_cosets(n,q,ell)\n",
    "g = BCH_generator_polynomial(FF,x,ell,cc)\n",
    "\n",
    "if not(g.divides(x**n - 1)):\n",
    "    print(\"Error\")\n",
    "    \n",
    "BCH_code(g,n)\n",
    "    "
   ]
  },
  {
   "cell_type": "code",
   "execution_count": 280,
   "metadata": {},
   "outputs": [],
   "source": [
    "def _IntToPol(data):\n",
    "    # Converts array of integers less than q to elements of field\n",
    "    \n",
    "    data_out = []\n",
    "    \n",
    "    for e in data:\n",
    "        if not e < q:\n",
    "            raise ValueError('Invalid symbol')\n",
    "        data_out.append(FF(ZZ(e).digits(2)))"
   ]
  },
  {
   "cell_type": "code",
   "execution_count": 281,
   "metadata": {},
   "outputs": [
    {
     "name": "stdout",
     "output_type": "stream",
     "text": [
      "None\n"
     ]
    }
   ],
   "source": [
    "m = [1,1,1,1,1]\n",
    "print(_IntToPol(m))"
   ]
  },
  {
   "cell_type": "code",
   "execution_count": null,
   "metadata": {},
   "outputs": [],
   "source": []
  }
 ],
 "metadata": {
  "kernelspec": {
   "display_name": "SageMath 9.4",
   "language": "sage",
   "name": "sagemath-9.4"
  },
  "language_info": {
   "codemirror_mode": {
    "name": "ipython",
    "version": 3
   },
   "file_extension": ".py",
   "mimetype": "text/x-python",
   "name": "python",
   "nbconvert_exporter": "python",
   "pygments_lexer": "ipython3",
   "version": "3.9.5"
  }
 },
 "nbformat": 4,
 "nbformat_minor": 4
}
