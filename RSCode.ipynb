{
 "cells": [
  {
   "cell_type": "markdown",
   "metadata": {},
   "source": [
    "## Reed-Solomon code"
   ]
  },
  {
   "cell_type": "code",
   "execution_count": 1,
   "metadata": {},
   "outputs": [],
   "source": [
    "class RSCode:\n",
    "    \n",
    "    def __init__(self, n, k, q):\n",
    "        \n",
    "        if not (k < n and n <= q):\n",
    "            raise ValueError('Invalid values for n, k, and q.')\n",
    "            \n",
    "        self.n = n\n",
    "        self.k = k\n",
    "        self.q = q\n",
    "        \n",
    "        self.d = self.n - self.k + 1\n",
    "        \n",
    "        self.tau = floor((self.n-self.k)/2)\n",
    "        \n",
    "        # Initializing field\n",
    "        self.F = GF(self.q)\n",
    "        self.R = PolynomialRing(self.F, 'X')\n",
    "        self.p = self.F.primitive_element()\n",
    "        \n",
    "        # Constructing alpha-vector\n",
    "        self.alpha = vector([self.p**i for i in range(self.n)])\n",
    "        \n",
    "        # Constructing generator matrix\n",
    "        self.G = matrix(self.F, k, n, lambda i,j : self.alpha[j]**i)\n",
    "        \n",
    "    def Encoding(self, m, zeropad = True):\n",
    "        \n",
    "        rem = len(m) % self.k\n",
    "        \n",
    "        if rem != 0:\n",
    "            if zeropad:\n",
    "                m.extend([self.F(0)]*(self.k-rem))\n",
    "            else:\n",
    "                raise ValueError('k does not divide input size')\n",
    "                \n",
    "                \n",
    "        c = []\n",
    "        \n",
    "        # Encoding each chunk of size k\n",
    "        for i in range(0, len(m), self.k):\n",
    "            c.extend(self.EncodeChunk(m[i:i+self.k]))\n",
    "        \n",
    "        return c\n",
    "            \n",
    "    def EncodeChunk(self, chunk):\n",
    "        \n",
    "        # Encode a chunk of size k\n",
    "        if len(chunk) != self.k:\n",
    "            raise ValueError('Invalid chunk size')\n",
    "            \n",
    "        c = vector(self.F, chunk) * self.G\n",
    "        return c"
   ]
  },
  {
   "cell_type": "code",
   "execution_count": 2,
   "metadata": {},
   "outputs": [
    {
     "data": {
      "text/plain": [
       "(1, z4, z4^2, z4^3, z4 + 1, z4^2 + z4, z4^3 + z4^2, z4^3 + z4 + 1, z4^2 + 1, z4^3 + z4, z4^2 + z4 + 1, z4^3 + z4^2 + z4, z4^3 + z4^2 + z4 + 1, z4^3 + z4^2 + 1, z4^3 + 1)"
      ]
     },
     "execution_count": 2,
     "metadata": {},
     "output_type": "execute_result"
    }
   ],
   "source": [
    "C = RSCode(15,7,2**4)\n",
    "C.alpha\n"
   ]
  },
  {
   "cell_type": "code",
   "execution_count": 4,
   "metadata": {},
   "outputs": [
    {
     "data": {
      "text/plain": [
       "[0,\n",
       " z4^3 + z4,\n",
       " z4^3,\n",
       " z4^3 + z4,\n",
       " z4^3 + z4^2,\n",
       " 1,\n",
       " z4^3,\n",
       " z4^3 + z4,\n",
       " z4^3 + z4^2 + z4 + 1,\n",
       " z4^3 + z4^2 + z4 + 1,\n",
       " 1,\n",
       " z4^3 + z4^2 + z4 + 1,\n",
       " z4^3 + z4^2,\n",
       " z4^3 + z4^2,\n",
       " z4^3]"
      ]
     },
     "execution_count": 4,
     "metadata": {},
     "output_type": "execute_result"
    }
   ],
   "source": [
    "m = [1,2,3,4,5,6,7]\n",
    "C.Encoding(m)"
   ]
  },
  {
   "cell_type": "code",
   "execution_count": null,
   "metadata": {},
   "outputs": [],
   "source": []
  },
  {
   "cell_type": "code",
   "execution_count": null,
   "metadata": {},
   "outputs": [],
   "source": []
  }
 ],
 "metadata": {
  "kernelspec": {
   "display_name": "SageMath 9.4",
   "language": "sage",
   "name": "sagemath-9.4"
  },
  "language_info": {
   "codemirror_mode": {
    "name": "ipython",
    "version": 3
   },
   "file_extension": ".py",
   "mimetype": "text/x-python",
   "name": "python",
   "nbconvert_exporter": "python",
   "pygments_lexer": "ipython3",
   "version": "3.9.5"
  }
 },
 "nbformat": 4,
 "nbformat_minor": 4
}
