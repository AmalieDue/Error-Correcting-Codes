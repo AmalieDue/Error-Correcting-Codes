{
 "cells": [
  {
   "cell_type": "markdown",
   "metadata": {},
   "source": [
    "## Reed-Solomon code"
   ]
  },
  {
   "cell_type": "code",
   "execution_count": 66,
   "metadata": {},
   "outputs": [],
   "source": [
    "class RSCode:\n",
    "    \n",
    "    def __init__(self, n, k, q, alpha = None):\n",
    "        \n",
    "        if not (k < n and n <= q):\n",
    "            raise ValueError('Invalid values for n, k, and q.')\n",
    "            \n",
    "        self.n = n\n",
    "        self.k = k\n",
    "        self.q = q\n",
    "        \n",
    "        self.d = self.n - self.k + 1\n",
    "        \n",
    "        self.tau = floor((self.n-self.k)/2)\n",
    "        \n",
    "        # Initializing field\n",
    "        self.F = GF(self.q)\n",
    "        self.R = PolynomialRing(self.F, 'X')\n",
    "        self.p = self.F.primitive_element()\n",
    "        \n",
    "        # Constructing alpha-vector\n",
    "        if not alpha:\n",
    "            self.alpha = vector([self.p**i for i in range(self.n)])\n",
    "        else:\n",
    "            self.alpha = alpha\n",
    "        \n",
    "        # Constructing generator matrix\n",
    "        self.G = matrix(self.F, k, n, lambda i,j : self.alpha[j]**i)\n",
    "        \n",
    "    def Encoding(self, m, zeropad = True):\n",
    "        \n",
    "        rem = len(m) % self.k\n",
    "        \n",
    "        if rem != 0:\n",
    "            if zeropad:\n",
    "                m.extend([self.F(0)]*(self.k-rem))\n",
    "            else:\n",
    "                raise ValueError('k does not divide input size')\n",
    "                \n",
    "                \n",
    "        c = []\n",
    "        \n",
    "        # Encoding each chunk of size k\n",
    "        for i in range(0, len(m), self.k):\n",
    "            c.extend(self.EncodeChunk(m[i:i+self.k]))\n",
    "        \n",
    "        return c\n",
    "            \n",
    "    def EncodeChunk(self, chunk):\n",
    "        \n",
    "        # Encode a chunk of size k\n",
    "        if len(chunk) != self.k:\n",
    "            raise ValueError('Invalid chunk size')\n",
    "            \n",
    "        c = vector(self.F, chunk) * self.G\n",
    "        return c\n",
    "    \n",
    "    def Decoding(self, r):\n",
    "        \n",
    "        # Check input size\n",
    "        if len(r) % self.n != 0:\n",
    "            raise ValueError('Invalid input size')\n",
    "            \n",
    "        c = []\n",
    "        \n",
    "        for i in range(0,len(r),self.n):\n",
    "            c.extend(self.BivariateInterpolation(r[i:i+self.n]))\n",
    "            \n",
    "        return c\n",
    "    \n",
    "    def BivariateInterpolation(self, chunk):\n",
    "        \n",
    "        if len(chunk) != self.n:\n",
    "            raise ValueError('Invalid chunk size')\n",
    "            \n",
    "        # Constructing matrices\n",
    "        M1 = matrix(self.F, self.n, self.tau + self.k, lambda i,j : self.alpha[i]**j)\n",
    "        M2 = matrix(self.F, self.n, self.tau + 1, lambda i,j : chunk[i] * self.alpha[i]**j)\n",
    "        M = M1.augment(M2)\n",
    "        \n",
    "        # Solving system\n",
    "        RK = M.right_kernel()\n",
    "        \n",
    "        if len(RK.basis()) == 0:\n",
    "            return(None)\n",
    "        \n",
    "        sol = RK.basis()[0]\n",
    "\n",
    "        # Constructing Q0 and Q1 polynomials\n",
    "        Q0 = self.R(list(sol[:self.tau+self.k]))\n",
    "        Q1 = self.R(list(sol[self.tau+self.k:]))\n",
    "\n",
    "        # Calculating -Q0/Q1\n",
    "        q, r = Q0.quo_rem(Q1)\n",
    "\n",
    "        if r != 0:\n",
    "            #print('Non-zero remainder (possibly >tau errors). Returning None')\n",
    "            return(None)\n",
    "\n",
    "        out = []\n",
    "\n",
    "        out.extend((-q).list())\n",
    "        out.extend([self.F(0)]*(self.k-len(out)))\n",
    "\n",
    "        return out"
   ]
  },
  {
   "cell_type": "code",
   "execution_count": 67,
   "metadata": {},
   "outputs": [
    {
     "data": {
      "text/plain": [
       "(1, z4, z4^2, z4^3, z4 + 1, z4^2 + z4, z4^3 + z4^2, z4^3 + z4 + 1, z4^2 + 1, z4^3 + z4, z4^2 + z4 + 1, z4^3 + z4^2 + z4, z4^3 + z4^2 + z4 + 1, z4^3 + z4^2 + 1, z4^3 + 1)"
      ]
     },
     "execution_count": 67,
     "metadata": {},
     "output_type": "execute_result"
    }
   ],
   "source": [
    "C = RSCode(15,7,2**4)\n",
    "C.alpha\n"
   ]
  },
  {
   "cell_type": "code",
   "execution_count": 68,
   "metadata": {},
   "outputs": [],
   "source": [
    "m = [1,0,1,0,1,1,1]\n",
    "c = C.Encoding(m)"
   ]
  },
  {
   "cell_type": "code",
   "execution_count": 69,
   "metadata": {},
   "outputs": [
    {
     "data": {
      "text/plain": [
       "[1, 0, 1, 0, 1, 1, 1]"
      ]
     },
     "execution_count": 69,
     "metadata": {},
     "output_type": "execute_result"
    }
   ],
   "source": [
    "C.Decoding(c)"
   ]
  },
  {
   "cell_type": "code",
   "execution_count": null,
   "metadata": {},
   "outputs": [],
   "source": []
  }
 ],
 "metadata": {
  "kernelspec": {
   "display_name": "SageMath 9.4",
   "language": "sage",
   "name": "sagemath-9.4"
  },
  "language_info": {
   "codemirror_mode": {
    "name": "ipython",
    "version": 3
   },
   "file_extension": ".py",
   "mimetype": "text/x-python",
   "name": "python",
   "nbconvert_exporter": "python",
   "pygments_lexer": "ipython3",
   "version": "3.9.5"
  }
 },
 "nbformat": 4,
 "nbformat_minor": 4
}
