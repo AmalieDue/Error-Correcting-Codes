{
 "cells": [
  {
   "cell_type": "markdown",
   "metadata": {},
   "source": [
    "## HQC"
   ]
  },
  {
   "cell_type": "code",
   "execution_count": 184,
   "metadata": {},
   "outputs": [],
   "source": [
    "class HQC:\n",
    "    \n",
    "    def __init__(self, n, k, delta, w, w_e, w_r):\n",
    "        \n",
    "        self.n = n\n",
    "        self.k = k\n",
    "        self.delta = delta\n",
    "        self.w = w\n",
    "        self.w_e = w_e\n",
    "        self.w_r = w_r\n",
    "        \n",
    "        self.F = GF(2)\n",
    "        self.R = PolynomialRing(self.F, 'x'); x = R.gen()\n",
    "        self.S = QuotientRing(self.R, x**5 - F(1), 'a'); a = S.gen()\n",
    "        \n",
    "        self.pk, self.sk = self.KeyGen(self.n,self.k, self.delta, self.w, self.w_e, self.w_r)\n",
    "        \n",
    "    def KeyGen(self, n, k, delta, w, w_e, w_r):\n",
    "        \n",
    "        h = self.R.random_element(degree=(0,self.n))\n",
    "        h = self.S(h)\n",
    "        \n",
    "        x = self.R.random_element(degree=(0,self.n))\n",
    "        while (x.hamming_weight() != self.w):\n",
    "            x = self.R.random_element(degree=(0,self.n))\n",
    "        x = self.S(x)\n",
    "        \n",
    "        y = self.R.random_element(degree=(0,self.n))\n",
    "        while (y.hamming_weight() != self.w):\n",
    "            y = self.R.random_element(degree=(0,self.n))\n",
    "        y = self.S(y)\n",
    "        \n",
    "        s = x + h * y\n",
    "        \n",
    "        sk = (x,y)\n",
    "        pk = (h,s)\n",
    "        \n",
    "        return pk, sk\n",
    "    \n",
    "    def Encrypt(self, pk, m):\n",
    "        \n",
    "        e = self.R.random_element(degree=self.n-1)\n",
    "        while (e.hamming_weight() != self.w_e):\n",
    "            e = self.R.random_element(degree=self.n-1)\n",
    "        e = self.S(e)\n",
    "        \n",
    "        r1 = self.R.random_element(degree=self.n-1)\n",
    "        while (r1.hamming_weight() != self.w_r):\n",
    "            r1 = self.R.random_element(degree=self.n-1)\n",
    "        r1 = self.S(r2)\n",
    "        \n",
    "        r2 = self.R.random_element(degree=self.n-1)\n",
    "        while (r2.hamming_weight() != self.w_r):\n",
    "            r2 = self.R.random_element(degree=self.n-1)\n",
    "        r2 = self.S(r2)\n",
    "        \n",
    "        u = r1 + pk[0] * r2\n",
    "        \n",
    "        v = self.Encoding(m) + pk[1] * r_2 + e\n",
    "        \n",
    "        return (u,v)\n",
    "    \n",
    "    def Decrypt(self, sk, c):\n",
    "        \n",
    "        return self.Decoding(c[1] - c[0] * sk[1])\n",
    "        \n",
    "        \n",
    "        \n",
    "    #def mult_with_rot(self, u, v):\n",
    "        #rot_v = matrix(FF, self.n, self.n ,lambda i,j : v[i-j])\n",
    "        #return u * rot_v\n",
    "        \n",
    "        "
   ]
  },
  {
   "cell_type": "code",
   "execution_count": 185,
   "metadata": {},
   "outputs": [
    {
     "name": "stdout",
     "output_type": "stream",
     "text": [
      "(a + 1, a^3 + a^2 + a)\n",
      "a + 1\n",
      "a^3 + a^2 + a\n"
     ]
    }
   ],
   "source": [
    "# choose n as a primitive prime number\n",
    "#n = 17669\n",
    "C = HQC(5,6,4,3,5,5)\n",
    "#C = HQC()\n",
    "t = C.pk\n",
    "print(t)\n",
    "print(t[0])\n",
    "print(t[1])"
   ]
  },
  {
   "cell_type": "code",
   "execution_count": 168,
   "metadata": {},
   "outputs": [],
   "source": [
    "F = GF(2)\n",
    "R = PolynomialRing(F, 'x'); x = R.gen()\n",
    "S = QuotientRing(R, x**5 - F(1), 'a'); a = S.gen()"
   ]
  },
  {
   "cell_type": "code",
   "execution_count": 182,
   "metadata": {},
   "outputs": [
    {
     "data": {
      "text/plain": [
       "x^2 + x"
      ]
     },
     "execution_count": 182,
     "metadata": {},
     "output_type": "execute_result"
    }
   ],
   "source": [
    "t = R.random_element(degree=(0,10))\n",
    "t"
   ]
  },
  {
   "cell_type": "code",
   "execution_count": 183,
   "metadata": {},
   "outputs": [
    {
     "data": {
      "text/plain": [
       "a^2 + a"
      ]
     },
     "execution_count": 183,
     "metadata": {},
     "output_type": "execute_result"
    }
   ],
   "source": [
    "S(t)"
   ]
  },
  {
   "cell_type": "code",
   "execution_count": null,
   "metadata": {},
   "outputs": [],
   "source": []
  }
 ],
 "metadata": {
  "kernelspec": {
   "display_name": "SageMath 9.4",
   "language": "sage",
   "name": "sagemath-9.4"
  },
  "language_info": {
   "codemirror_mode": {
    "name": "ipython",
    "version": 3
   },
   "file_extension": ".py",
   "mimetype": "text/x-python",
   "name": "python",
   "nbconvert_exporter": "python",
   "pygments_lexer": "ipython3",
   "version": "3.9.5"
  }
 },
 "nbformat": 4,
 "nbformat_minor": 4
}
