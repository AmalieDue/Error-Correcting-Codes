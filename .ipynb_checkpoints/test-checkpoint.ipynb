{
 "cells": [
  {
   "cell_type": "code",
   "execution_count": 1,
   "metadata": {},
   "outputs": [],
   "source": [
    "def cyclotomic_cosets(n,q,i_range):\n",
    "    cc = [0]*i_range\n",
    "    for i in range(0,i_range):\n",
    "        cc[i] = [(i * q**j) % n for j in range(0,n-1)]\n",
    "        cc[i] = list(set(cc[i]))\n",
    "        cc[i].sort()\n",
    "    return cc\n",
    "\n",
    "def minimal_polynomial(cc, x, a):\n",
    "    mp = 1\n",
    "    for j in range(len(cc)):\n",
    "        mp *= (x - a**cc[j])\n",
    "    return mp\n",
    "\n",
    "def BCH_generator_polynomial(FF,x,ell,cc):\n",
    "    mp = minimal_polynomial(cc[1], x, a)\n",
    "    for i in range(2,ell):\n",
    "        mp=LCM(mp,minimal_polynomial(cc[i],x,a))\n",
    "    return mp\n",
    "\n",
    "def BCH_code(generator_poly, n):\n",
    "    C = codes.CyclicCode(generator_pol = generator_poly, length = n)\n",
    "    print(\"Generator matrix:\")\n",
    "    print(C.generator_matrix())\n",
    "    print(\"Parity check matrix:\")\n",
    "    print(C.parity_check_matrix())\n",
    "    \n",
    "    \n",
    "    "
   ]
  },
  {
   "cell_type": "code",
   "execution_count": 2,
   "metadata": {},
   "outputs": [
    {
     "name": "stdout",
     "output_type": "stream",
     "text": [
      "Generator matrix:\n",
      "[1 1 1 0 1 1 0 0 1 0 1 0 0 0 0]\n",
      "[0 1 1 1 0 1 1 0 0 1 0 1 0 0 0]\n",
      "[0 0 1 1 1 0 1 1 0 0 1 0 1 0 0]\n",
      "[0 0 0 1 1 1 0 1 1 0 0 1 0 1 0]\n",
      "[0 0 0 0 1 1 1 0 1 1 0 0 1 0 1]\n",
      "Parity check matrix:\n",
      "[1 0 1 0 1 1 0 0 0 0 0 0 0 0 0]\n",
      "[0 1 0 1 0 1 1 0 0 0 0 0 0 0 0]\n",
      "[0 0 1 0 1 0 1 1 0 0 0 0 0 0 0]\n",
      "[0 0 0 1 0 1 0 1 1 0 0 0 0 0 0]\n",
      "[0 0 0 0 1 0 1 0 1 1 0 0 0 0 0]\n",
      "[0 0 0 0 0 1 0 1 0 1 1 0 0 0 0]\n",
      "[0 0 0 0 0 0 1 0 1 0 1 1 0 0 0]\n",
      "[0 0 0 0 0 0 0 1 0 1 0 1 1 0 0]\n",
      "[0 0 0 0 0 0 0 0 1 0 1 0 1 1 0]\n",
      "[0 0 0 0 0 0 0 0 0 1 0 1 0 1 1]\n"
     ]
    }
   ],
   "source": [
    "n = 15\n",
    "q = 2\n",
    "m = 4\n",
    "FF.<a> = GF(q**m,\"a\") # a is primitive element\n",
    "x = PolynomialRing(FF,\"x\").gen()\n",
    "ell = 6\n",
    "\n",
    "cc = cyclotomic_cosets(n,q,ell)\n",
    "g = BCH_generator_polynomial(FF,x,ell,cc)\n",
    "\n",
    "if not(g.divides(x**n - 1)):\n",
    "    print(\"Error\")\n",
    "    \n",
    "BCH_code(g,n)\n",
    "    "
   ]
  },
  {
   "cell_type": "code",
   "execution_count": 280,
   "metadata": {},
   "outputs": [],
   "source": [
    "def _IntToPol(data):\n",
    "    # Converts array of integers less than q to elements of field\n",
    "    \n",
    "    data_out = []\n",
    "    \n",
    "    for e in data:\n",
    "        if not e < q:\n",
    "            raise ValueError('Invalid symbol')\n",
    "        data_out.append(FF(ZZ(e).digits(2)))"
   ]
  },
  {
   "cell_type": "code",
   "execution_count": 281,
   "metadata": {},
   "outputs": [
    {
     "name": "stdout",
     "output_type": "stream",
     "text": [
      "None\n"
     ]
    }
   ],
   "source": [
    "m = [1,1,1,1,1]\n",
    "print(_IntToPol(m))"
   ]
  },
  {
   "cell_type": "code",
   "execution_count": 11,
   "metadata": {},
   "outputs": [
    {
     "name": "stdout",
     "output_type": "stream",
     "text": [
      "[1 1 1]\n"
     ]
    },
    {
     "ename": "NameError",
     "evalue": "name 'DetermineInput' is not defined",
     "output_type": "error",
     "traceback": [
      "\u001b[0;31m---------------------------------------------------------------------------\u001b[0m",
      "\u001b[0;31mNameError\u001b[0m                                 Traceback (most recent call last)",
      "\u001b[0;32m<ipython-input-11-8a9a8dcc016d>\u001b[0m in \u001b[0;36m<module>\u001b[0;34m\u001b[0m\n\u001b[1;32m     12\u001b[0m \u001b[0;34m\u001b[0m\u001b[0m\n\u001b[1;32m     13\u001b[0m \u001b[0mm\u001b[0m \u001b[0;34m=\u001b[0m \u001b[0;34m[\u001b[0m\u001b[0mInteger\u001b[0m\u001b[0;34m(\u001b[0m\u001b[0;36m1\u001b[0m\u001b[0;34m)\u001b[0m\u001b[0;34m]\u001b[0m\u001b[0;34m\u001b[0m\u001b[0;34m\u001b[0m\u001b[0m\n\u001b[0;32m---> 14\u001b[0;31m \u001b[0mprint\u001b[0m\u001b[0;34m(\u001b[0m\u001b[0mDetermineInput\u001b[0m\u001b[0;34m(\u001b[0m\u001b[0mm\u001b[0m\u001b[0;34m)\u001b[0m\u001b[0;34m)\u001b[0m\u001b[0;34m\u001b[0m\u001b[0;34m\u001b[0m\u001b[0m\n\u001b[0m\u001b[1;32m     15\u001b[0m \u001b[0;34m\u001b[0m\u001b[0m\n\u001b[1;32m     16\u001b[0m \u001b[0mc\u001b[0m \u001b[0;34m=\u001b[0m \u001b[0mvector\u001b[0m\u001b[0;34m(\u001b[0m\u001b[0mFF\u001b[0m\u001b[0;34m,\u001b[0m\u001b[0mm\u001b[0m\u001b[0;34m)\u001b[0m\u001b[0;34m*\u001b[0m\u001b[0mG\u001b[0m\u001b[0;34m\u001b[0m\u001b[0;34m\u001b[0m\u001b[0m\n",
      "\u001b[0;31mNameError\u001b[0m: name 'DetermineInput' is not defined"
     ]
    }
   ],
   "source": [
    "# Repetition code\n",
    "n = 3\n",
    "k = 1\n",
    "d = 3\n",
    "q = 2\n",
    "\n",
    "FF = GF(q)\n",
    "\n",
    "G = matrix(FF, k,n, lambda i,j : 1)\n",
    "print(G)\n",
    "\n",
    "\n",
    "m = [1]\n",
    "print(DetermineInput(m))\n",
    "\n",
    "c = vector(FF,m)*G\n",
    "c"
   ]
  },
  {
   "cell_type": "code",
   "execution_count": 140,
   "metadata": {},
   "outputs": [],
   "source": [
    "class RepetitionCode:\n",
    "    \n",
    "    def __init__(self, n, k, q):\n",
    "        \n",
    "        if not (k == 1 and q == 2 and k <= n):\n",
    "            raise ValueError('Invalid values for n, k, and q')\n",
    "            \n",
    "        self.n = n\n",
    "        self.k = k\n",
    "        self.q = q\n",
    "        \n",
    "        self.d = self.n\n",
    "        \n",
    "        self.tau = floor((self.d-1)/2)\n",
    "        \n",
    "        # Initializing field\n",
    "        self.FF = FiniteField(q)\n",
    "        \n",
    "        # Constructing generator matrix\n",
    "        self.G = matrix(self.FF, k, n, lambda i,j : 1)\n",
    "        \n",
    "        \n",
    "    def Encoding(self, m):\n",
    "        \n",
    "        r = []\n",
    "        # Encoding each chunk of size k\n",
    "        for i in range(0, len(m), self.k):\n",
    "            r.extend(self.EncodeChunk(m[i:i+self.k]))\n",
    "        \n",
    "        return r\n",
    "    \n",
    "    def EncodeChunk(self, chunk):\n",
    "        # Encodes a chunk of size k with elements from F \n",
    "        \n",
    "        if len(chunk) != self.k:\n",
    "            raise ValueError('Invalid chunk size')\n",
    "        \n",
    "        c = vector(self.FF, chunk) * self.G\n",
    "        return c\n",
    "        \n",
    "    \n",
    "    def Decoding(self, r):\n",
    "        \n",
    "        if (len(r)) % self.n != 0:\n",
    "            raise ValueError('Invalid input size')\n",
    "            \n",
    "        res = []\n",
    "        # Decoding each chunk of size n\n",
    "        for i in range(0, len(r), self.n):\n",
    "            res.extend(self.DecodeChunk(r[i:i+self.n]))\n",
    "            \n",
    "        return res\n",
    "    \n",
    "    def DecodeChunk(self, chunk):\n",
    "        # Decodes a chunk of size n\n",
    "        \n",
    "        if len(chunk) != self.n:\n",
    "            raise ValueError('Invalid chunk size')\n",
    "            \n",
    "        if (chunk.count(1) > floor(self.n / 2)):\n",
    "            return [1]\n",
    "        elif (chunk.count(1) <= floor(self.n / 2)):\n",
    "            return [0]"
   ]
  },
  {
   "cell_type": "code",
   "execution_count": 176,
   "metadata": {},
   "outputs": [
    {
     "data": {
      "text/plain": [
       "(3, 1)"
      ]
     },
     "execution_count": 176,
     "metadata": {},
     "output_type": "execute_result"
    }
   ],
   "source": [
    "toy_code = RepetitionCode(n=3, k=1, q=2)\n",
    "toy_code.d, toy_code.tau"
   ]
  },
  {
   "cell_type": "code",
   "execution_count": 177,
   "metadata": {},
   "outputs": [
    {
     "name": "stdout",
     "output_type": "stream",
     "text": [
      "[1, 1, 1, 0, 0, 0, 1, 1, 1, 1, 1, 1, 1, 1, 1, 0, 0, 0]\n",
      "[1, 0, 1, 1, 1, 0]\n"
     ]
    }
   ],
   "source": [
    "m = [1,0,1,1,1,0]\n",
    "c = toy_code.Encoding(m)\n",
    "print(c)\n",
    "r = toy_code.Decoding(c)\n",
    "print(r)"
   ]
  },
  {
   "cell_type": "code",
   "execution_count": 178,
   "metadata": {},
   "outputs": [
    {
     "data": {
      "text/plain": [
       "1"
      ]
     },
     "execution_count": 178,
     "metadata": {},
     "output_type": "execute_result"
    }
   ],
   "source": [
    "m = [1,2,3,4,5]\n",
    "m.count(1)"
   ]
  },
  {
   "cell_type": "code",
   "execution_count": 181,
   "metadata": {},
   "outputs": [],
   "source": [
    "import numpy as np\n",
    "\n",
    "def SymmetricChannel(c, p, seed = None):\n",
    "    print(c)\n",
    "    \n",
    "    if not ([(bit == 1 or bit == 0) for bit in c]):\n",
    "        raise ValueError('Invalid input')\n",
    "        \n",
    "    if seed:\n",
    "        np.random.seed(seed)\n",
    "    \n",
    "    # Construct error vector\n",
    "    e = np.random.binomial(1, p, size = len(c))\n",
    "    print(e)\n",
    "    \n",
    "    r = [0] * len(c)\n",
    "    \n",
    "    for i in range(len(c)):\n",
    "        r[i] = c[i] + e[i]\n",
    "        \n",
    "    return r\n"
   ]
  },
  {
   "cell_type": "code",
   "execution_count": 182,
   "metadata": {},
   "outputs": [
    {
     "name": "stdout",
     "output_type": "stream",
     "text": [
      "[1, 1, 1, 0, 0, 0, 1, 1, 1, 1, 1, 1, 1, 1, 1, 0, 0, 0]\n",
      "[0 0 0 0 0 0 0 1 0 0 0 0 0 1 0 0 0 0]\n"
     ]
    },
    {
     "data": {
      "text/plain": [
       "[1, 1, 1, 0, 0, 0, 1, 0, 1, 1, 1, 1, 1, 0, 1, 0, 0, 0]"
      ]
     },
     "execution_count": 182,
     "metadata": {},
     "output_type": "execute_result"
    }
   ],
   "source": [
    "SymmetricChannel(c, 0.02)"
   ]
  },
  {
   "cell_type": "code",
   "execution_count": 173,
   "metadata": {},
   "outputs": [
    {
     "name": "stdout",
     "output_type": "stream",
     "text": [
      "48\n"
     ]
    }
   ],
   "source": [
    "print(len(c))"
   ]
  },
  {
   "cell_type": "code",
   "execution_count": 166,
   "metadata": {},
   "outputs": [],
   "source": [
    "e = np.random.binomial(1, 0.3, 1000)"
   ]
  }
 ],
 "metadata": {
  "kernelspec": {
   "display_name": "SageMath 9.4",
   "language": "sage",
   "name": "sagemath-9.4"
  },
  "language_info": {
   "codemirror_mode": {
    "name": "ipython",
    "version": 3
   },
   "file_extension": ".py",
   "mimetype": "text/x-python",
   "name": "python",
   "nbconvert_exporter": "python",
   "pygments_lexer": "ipython3",
   "version": "3.9.5"
  }
 },
 "nbformat": 4,
 "nbformat_minor": 4
}
