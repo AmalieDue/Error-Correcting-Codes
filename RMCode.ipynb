{
 "cells": [
  {
   "cell_type": "markdown",
   "metadata": {},
   "source": [
    "## Reed-Muller Code:"
   ]
  },
  {
   "cell_type": "code",
   "execution_count": 3,
   "metadata": {},
   "outputs": [],
   "source": [
    "class ReedMullerCode:\n",
    "    \n",
    "    def __init__(self, r, m):\n",
    "            \n",
    "        self.r = r\n",
    "        self.m = m\n",
    "        self.q = 2\n",
    "        \n",
    "        self.n = 2**self.m\n",
    "        self.k = sum(binomial(self.m,i) for i in range(self.r + 1))\n",
    "        self.d = 2**(self.m - self.r)\n",
    "        \n",
    "        # Initializing field\n",
    "        self.F = FiniteField(self.q)\n",
    "        \n",
    "        self.G = matrix(self.F, self.k, self.n, lambda i,j : 0)\n",
    "        \n",
    "        print('RM({0},{1}) has the parameters:'.format(self.r, self.m))\n",
    "        print('n, k, d:')\n",
    "        print(self.n,self.k,self.d)\n",
    "        self.G = self.get_G(self.r, self.m)\n",
    "        print('and generator matrix:')\n",
    "        print(self.G)\n",
    "        \n",
    "    \n",
    "    def get_G(self, r, m):\n",
    "        n = 2**m\n",
    "        k = sum(binomial(m,i) for i in range(r + 1))\n",
    "        d = 2**(m - r)\n",
    "\n",
    "        #if (n == k):\n",
    "            # trivial code\n",
    "\n",
    "        if (n == d):\n",
    "            # repetition code\n",
    "            return matrix(self.F, k, n, lambda i,j : 1)\n",
    "\n",
    "        elif (d == 2 and n == k + 1):\n",
    "            # parity check code\n",
    "            PCC = codes.ParityCheckCode(GF(self.q), k)\n",
    "            return PCC.generator_matrix()\n",
    "\n",
    "        else:\n",
    "            return block_matrix([ [self.get_G(r,m-1), self.get_G(r,m-1)], [0, self.get_G(r-1,m-1)] ])\n",
    "    \n",
    "    \n",
    "    def Encoding(self, message, zeropad = True):\n",
    "        \n",
    "        rem = len(message) % self.k\n",
    "        \n",
    "        if rem != 0:\n",
    "            if zeropad:\n",
    "                message.extend([self.F(0)]*(self.k-rem))\n",
    "            else:\n",
    "                raise ValueError('k does not divide input size')\n",
    "                \n",
    "                \n",
    "        c = []\n",
    "        \n",
    "        # Encoding each chunk of size k\n",
    "        for i in range(0, len(message), self.k):\n",
    "            c.extend(self.EncodeChunk(message[i:i+self.k]))\n",
    "        \n",
    "        return vector(self.F, c)\n",
    "            \n",
    "    def EncodeChunk(self, chunk):\n",
    "        \n",
    "        # Encode a chunk of size k\n",
    "        if len(chunk) != self.k:\n",
    "            raise ValueError('Invalid chunk size')\n",
    "            \n",
    "        c = vector(self.F, chunk) * self.G\n",
    "\n",
    "        return c\n",
    "        \n",
    "    \n",
    "    def Decoding(self, received):\n",
    "        \n",
    "        # Check input size\n",
    "        if len(received) % self.n != 0:\n",
    "            raise ValueError('Invalid input size')\n",
    "            \n",
    "        c = []\n",
    "        \n",
    "        for i in range(0,len(received),self.n):\n",
    "            c.extend(self.DecodeChunk(received[i:i+self.n], self.r, self.m))\n",
    "            \n",
    "        return vector(self.F, c)\n",
    "                \n",
    "            \n",
    "    def DecodeChunk(self, word, r, m):\n",
    "        \n",
    "        word = vector(self.F, word)\n",
    "        \n",
    "        if (self.n % len(word)) != 0:\n",
    "            raise ValueError('Invalid chunk size')\n",
    "        \n",
    "        if (r == 0):\n",
    "            return self.repetition_decode(word)\n",
    "        \n",
    "        if (m == r + 1):\n",
    "            return 'parity check'\n",
    "        \n",
    "        l = len(word)\n",
    "        u1 = word[:l//2]\n",
    "        u2_v = word[l//2:]\n",
    "        \n",
    "        v_error = u1 + u2_v\n",
    "\n",
    "        v = self.DecodeChunk(v_error, r - 1, m - 1)\n",
    "        u2 = u2_v + v\n",
    "        \n",
    "        u1_decoded = self.DecodeChunk(u1, r, m - 1)\n",
    "        u2_decoded = self.DecodeChunk(u2, r, m - 1)\n",
    "        u = 0\n",
    "        \n",
    "        if (u1_decoded == 'parity check' and u2_decoded == 'parity check'):\n",
    "            u = self.parity_check_compare(u1, u2)\n",
    "            return vector(self.F, list(u) + list(u + v))\n",
    "        else:\n",
    "            return vector(self.F, list(u1_decoded) + list(u2_decoded + v))\n",
    "        \n",
    "    \n",
    "    \n",
    "    def repetition_decode(self, word):\n",
    "        \n",
    "        if word.hamming_weight() >= len(word.list())//2:\n",
    "            return vector(self.F, [1 for i in range(len(word.list()))])\n",
    "        elif word.hamming_weight() < len(word.list())//2:\n",
    "            return vector(self.F, [0 for i in range(len(word.list()))])\n",
    "        else:\n",
    "            return \"decoding failure\"\n",
    "        \n",
    "    def parity_check_compare(self, word1, word2):\n",
    "        decoded1 = word1[:-1]\n",
    "        decoded2 = word2[:-1]\n",
    "        \n",
    "        if (((decoded1.hamming_weight() % 2) == 0 and word1[-1] == 0) or ((decoded1.hamming_weight() % 2) == 1 and word1[-1] == 1)):\n",
    "            return word1\n",
    "        elif (((decoded2.hamming_weight() % 2) == 0 and word2[-1] == 0) or ((decoded1.hamming_weight() % 2) == 1 and word2[-1] == 1)):\n",
    "            return word2\n",
    "        else:\n",
    "            return \"decoding failure\"\n",
    "        "
   ]
  },
  {
   "cell_type": "code",
   "execution_count": 5,
   "metadata": {},
   "outputs": [
    {
     "name": "stdout",
     "output_type": "stream",
     "text": [
      "RM(1,3) has the parameters:\n",
      "n, k, d:\n",
      "8 4 4\n",
      "and generator matrix:\n",
      "[1 0 0 1|1 0 0 1]\n",
      "[0 1 0 1|0 1 0 1]\n",
      "[0 0 1 1|0 0 1 1]\n",
      "[-------+-------]\n",
      "[0 0 0 0|1 1 1 1]\n"
     ]
    }
   ],
   "source": [
    "C = ReedMullerCode(1,3)"
   ]
  },
  {
   "cell_type": "code",
   "execution_count": 2,
   "metadata": {},
   "outputs": [
    {
     "name": "stdout",
     "output_type": "stream",
     "text": [
      "message:\n",
      " (1, 0, 1, 0, 1)\n"
     ]
    },
    {
     "ename": "NameError",
     "evalue": "name 'C' is not defined",
     "output_type": "error",
     "traceback": [
      "\u001b[0;31m---------------------------------------------------------------------------\u001b[0m",
      "\u001b[0;31mNameError\u001b[0m                                 Traceback (most recent call last)",
      "\u001b[0;32m<ipython-input-2-3828ee499700>\u001b[0m in \u001b[0;36m<module>\u001b[0;34m\u001b[0m\n\u001b[1;32m      2\u001b[0m \u001b[0mprint\u001b[0m\u001b[0;34m(\u001b[0m\u001b[0;34m'message:\\n'\u001b[0m\u001b[0;34m,\u001b[0m \u001b[0mmessage\u001b[0m\u001b[0;34m)\u001b[0m\u001b[0;34m\u001b[0m\u001b[0;34m\u001b[0m\u001b[0m\n\u001b[1;32m      3\u001b[0m \u001b[0;34m\u001b[0m\u001b[0m\n\u001b[0;32m----> 4\u001b[0;31m \u001b[0mc\u001b[0m \u001b[0;34m=\u001b[0m \u001b[0mC\u001b[0m\u001b[0;34m.\u001b[0m\u001b[0mEncoding\u001b[0m\u001b[0;34m(\u001b[0m\u001b[0mmessage\u001b[0m\u001b[0;34m)\u001b[0m\u001b[0;34m\u001b[0m\u001b[0;34m\u001b[0m\u001b[0m\n\u001b[0m\u001b[1;32m      5\u001b[0m \u001b[0mprint\u001b[0m\u001b[0;34m(\u001b[0m\u001b[0;34m'codeword:\\n'\u001b[0m\u001b[0;34m,\u001b[0m \u001b[0mc\u001b[0m\u001b[0;34m)\u001b[0m\u001b[0;34m\u001b[0m\u001b[0;34m\u001b[0m\u001b[0m\n\u001b[1;32m      6\u001b[0m \u001b[0;34m\u001b[0m\u001b[0m\n",
      "\u001b[0;31mNameError\u001b[0m: name 'C' is not defined"
     ]
    }
   ],
   "source": [
    "message = vector(GF(2), [1,0,1,0,1,])\n",
    "print('message:\\n', message)\n",
    "\n",
    "c = C.Encoding(message)\n",
    "print('codeword:\\n', c)\n",
    "\n",
    "e = vector(GF(2), [0,0,0,0,1,0,0,0,0,0,0,0,0,0,0,0])\n",
    "\n",
    "r = c + e\n",
    "print('recevied word:\\n', r)\n",
    "\n",
    "decoded = C.Decoding(r)\n",
    "print(\"decoded word\\n\", decoded)"
   ]
  },
  {
   "cell_type": "code",
   "execution_count": 188,
   "metadata": {},
   "outputs": [
    {
     "data": {
      "text/plain": [
       "[1 0 0 1 0 1 1 0|0 1 1 0 1 0 0 1]\n",
       "[0 1 0 1 0 1 0 1|0 1 0 1 0 1 0 1]\n",
       "[0 0 1 1 0 0 1 1|0 0 1 1 0 0 1 1]\n",
       "[0 0 0 0 1 1 1 1|0 0 0 0 1 1 1 1]\n",
       "[---------------+---------------]\n",
       "[0 0 0 0 0 0 0 0|1 1 1 1 1 1 1 1]"
      ]
     },
     "execution_count": 188,
     "metadata": {},
     "output_type": "execute_result"
    }
   ],
   "source": [
    "C.G"
   ]
  },
  {
   "cell_type": "code",
   "execution_count": 176,
   "metadata": {},
   "outputs": [
    {
     "data": {
      "text/plain": [
       "[1 0 0 1 0 1 1 0|0 1 1 0 1 0 0 1]\n",
       "[0 1 0 1 0 1 0 1|0 1 0 1 0 1 0 1]\n",
       "[0 0 1 1 0 0 1 1|0 0 1 1 0 0 1 1]\n",
       "[0 0 0 0 1 1 1 1|0 0 0 0 1 1 1 1]\n",
       "[---------------+---------------]\n",
       "[0 0 0 0 0 0 0 0|1 1 1 1 1 1 1 1]"
      ]
     },
     "execution_count": 176,
     "metadata": {},
     "output_type": "execute_result"
    }
   ],
   "source": [
    "C.G.echelon_form()"
   ]
  },
  {
   "cell_type": "code",
   "execution_count": 181,
   "metadata": {},
   "outputs": [],
   "source": [
    "A = matrix(GF(2), 4,8, [1,1,0,0, 1,1,1,1, 0,1,0,0, 1,0,1,1,0,0,1,0, 1,1,0,1, 0,0,1,1, 1,1,1,0])"
   ]
  },
  {
   "cell_type": "code",
   "execution_count": 183,
   "metadata": {},
   "outputs": [
    {
     "data": {
      "text/plain": [
       "[1 0 0 0 0 1 0 0]\n",
       "[0 1 0 0 1 0 1 1]\n",
       "[0 0 1 0 1 1 0 1]\n",
       "[0 0 0 1 0 0 1 1]"
      ]
     },
     "execution_count": 183,
     "metadata": {},
     "output_type": "execute_result"
    }
   ],
   "source": [
    "A.echelon_form()"
   ]
  },
  {
   "cell_type": "code",
   "execution_count": 187,
   "metadata": {},
   "outputs": [
    {
     "data": {
      "text/plain": [
       "0"
      ]
     },
     "execution_count": 187,
     "metadata": {},
     "output_type": "execute_result"
    }
   ],
   "source": [
    "A = matrix(GF(2), 5, 16, 0)\n",
    "A = C.G\n",
    "A[3][0]"
   ]
  },
  {
   "cell_type": "code",
   "execution_count": 190,
   "metadata": {},
   "outputs": [
    {
     "data": {
      "text/plain": [
       "5"
      ]
     },
     "execution_count": 190,
     "metadata": {},
     "output_type": "execute_result"
    }
   ],
   "source": [
    "C.G.rank()"
   ]
  },
  {
   "cell_type": "code",
   "execution_count": 191,
   "metadata": {},
   "outputs": [
    {
     "data": {
      "text/plain": [
       "[1 0 0 1 0 1 1 0|0 1 1 0 1 0 0 1]\n",
       "[0 1 0 1 0 1 0 1|0 1 0 1 0 1 0 1]\n",
       "[0 0 1 1 0 0 1 1|0 0 1 1 0 0 1 1]\n",
       "[0 0 0 0 1 1 1 1|0 0 0 0 1 1 1 1]\n",
       "[---------------+---------------]\n",
       "[0 0 0 0 0 0 0 0|1 1 1 1 1 1 1 1]"
      ]
     },
     "execution_count": 191,
     "metadata": {},
     "output_type": "execute_result"
    }
   ],
   "source": [
    "C.G.echelon_form(transformation=true)"
   ]
  },
  {
   "cell_type": "code",
   "execution_count": 194,
   "metadata": {},
   "outputs": [
    {
     "data": {
      "text/plain": [
       "[1 0 0 1 0 1 1 0|0 1 1 0 1 0 0 1]\n",
       "[0 1 0 1 0 1 0 1|0 1 0 1 0 1 0 1]\n",
       "[0 0 1 1 0 0 1 1|0 0 1 1 0 0 1 1]\n",
       "[0 0 0 0 1 1 1 1|0 0 0 0 1 1 1 1]\n",
       "[---------------+---------------]\n",
       "[0 0 0 0 0 0 0 0|1 1 1 1 1 1 1 1]"
      ]
     },
     "execution_count": 194,
     "metadata": {},
     "output_type": "execute_result"
    }
   ],
   "source": [
    "C.G.echelonize(); C.G"
   ]
  },
  {
   "cell_type": "code",
   "execution_count": 195,
   "metadata": {},
   "outputs": [
    {
     "data": {
      "text/plain": [
       "(1, 0, 1, 0, 1)"
      ]
     },
     "execution_count": 195,
     "metadata": {},
     "output_type": "execute_result"
    }
   ],
   "source": [
    "c1 = c[:5]\n",
    "c1"
   ]
  },
  {
   "cell_type": "code",
   "execution_count": 225,
   "metadata": {},
   "outputs": [
    {
     "name": "stdout",
     "output_type": "stream",
     "text": [
      "[1 0 0 1 0 1 1 0 0 1 1 0 1 0 0 1]\n",
      "[0 1 0 1 0 1 0 1 0 1 0 1 0 1 0 1]\n",
      "[0 0 1 1 0 0 1 1 0 0 1 1 0 0 1 1]\n",
      "[0 0 0 0 1 1 1 1 0 0 0 0 1 1 1 1]\n",
      "[0 0 0 0 0 0 0 0 1 1 1 1 1 1 1 1]\n"
     ]
    }
   ],
   "source": [
    "G1 = C.G.submatrix(0,0,5,16)\n",
    "rank(G1)\n",
    "print(G1.echelon_form())"
   ]
  },
  {
   "cell_type": "code",
   "execution_count": 230,
   "metadata": {},
   "outputs": [
    {
     "data": {
      "text/plain": [
       "[1 0 0 1 0 1 1 0 0 1 1 0 1 0 0 1]\n",
       "[0 1 0 1 0 1 0 1 0 1 0 1 0 1 0 1]\n",
       "[0 0 1 1 0 0 1 1 0 0 1 1 0 0 1 1]\n",
       "[0 0 0 0 1 1 1 1 0 0 0 0 1 1 1 1]\n",
       "[0 0 0 0 0 0 0 0 1 1 1 1 1 1 1 1]"
      ]
     },
     "execution_count": 230,
     "metadata": {},
     "output_type": "execute_result"
    }
   ],
   "source": [
    "B=G1.change_ring(QQ)\n",
    "sage: B.echelon_form()"
   ]
  },
  {
   "cell_type": "code",
   "execution_count": 229,
   "metadata": {},
   "outputs": [
    {
     "data": {
      "text/plain": [
       "[1 0 0 1 0 1 1 0 0 1 1 0 1 0 0 1]\n",
       "[0 1 0 1 0 1 0 1 0 1 0 1 0 1 0 1]\n",
       "[0 0 1 1 0 0 1 1 0 0 1 1 0 0 1 1]\n",
       "[0 0 0 0 1 1 1 1 0 0 0 0 1 1 1 1]\n",
       "[0 0 0 0 0 0 0 0 1 1 1 1 1 1 1 1]"
      ]
     },
     "execution_count": 229,
     "metadata": {},
     "output_type": "execute_result"
    }
   ],
   "source": [
    "G1.rref()"
   ]
  },
  {
   "cell_type": "code",
   "execution_count": 231,
   "metadata": {},
   "outputs": [
    {
     "ename": "NameError",
     "evalue": "name 'RREF_binary' is not defined",
     "output_type": "error",
     "traceback": [
      "\u001b[0;31m---------------------------------------------------------------------------\u001b[0m",
      "\u001b[0;31mNameError\u001b[0m                                 Traceback (most recent call last)",
      "\u001b[0;32m<ipython-input-231-96787c2c59ef>\u001b[0m in \u001b[0;36m<module>\u001b[0;34m\u001b[0m\n\u001b[0;32m----> 1\u001b[0;31m \u001b[0mRREF_binary\u001b[0m\u001b[0;34m(\u001b[0m\u001b[0mG1\u001b[0m\u001b[0;34m)\u001b[0m\u001b[0;34m\u001b[0m\u001b[0;34m\u001b[0m\u001b[0m\n\u001b[0m",
      "\u001b[0;31mNameError\u001b[0m: name 'RREF_binary' is not defined"
     ]
    }
   ],
   "source": [
    "RREF_binary(G1)"
   ]
  },
  {
   "cell_type": "code",
   "execution_count": 234,
   "metadata": {},
   "outputs": [],
   "source": [
    "test = identity_matrix(GF(2), 5)"
   ]
  },
  {
   "cell_type": "code",
   "execution_count": 236,
   "metadata": {},
   "outputs": [
    {
     "data": {
      "text/plain": [
       "[1 0 0 0 0]\n",
       "[0 1 0 0 0]\n",
       "[0 0 1 0 0]\n",
       "[0 0 0 1 0]\n",
       "[0 0 0 0 1]"
      ]
     },
     "execution_count": 236,
     "metadata": {},
     "output_type": "execute_result"
    }
   ],
   "source": [
    "test.inverse()"
   ]
  },
  {
   "cell_type": "code",
   "execution_count": null,
   "metadata": {},
   "outputs": [],
   "source": [
    "10110"
   ]
  }
 ],
 "metadata": {
  "kernelspec": {
   "display_name": "SageMath 9.4",
   "language": "sage",
   "name": "sagemath-9.4"
  },
  "language_info": {
   "codemirror_mode": {
    "name": "ipython",
    "version": 3
   },
   "file_extension": ".py",
   "mimetype": "text/x-python",
   "name": "python",
   "nbconvert_exporter": "python",
   "pygments_lexer": "ipython3",
   "version": "3.9.5"
  }
 },
 "nbformat": 4,
 "nbformat_minor": 4
}
