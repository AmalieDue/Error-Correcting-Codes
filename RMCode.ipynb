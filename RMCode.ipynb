{
 "cells": [
  {
   "cell_type": "markdown",
   "metadata": {},
   "source": [
    "## Reed-Muller Code:"
   ]
  },
  {
   "cell_type": "code",
   "execution_count": 1,
   "metadata": {},
   "outputs": [],
   "source": [
    "class ReedMullerCode:\n",
    "    \n",
    "    def __init__(self, r, m, q):\n",
    "        \n",
    "        if not (q == 2):\n",
    "            raise ValueError('Works only in binary case')\n",
    "            \n",
    "        self.r = r\n",
    "        self.m = m\n",
    "        self.q = q\n",
    "        \n",
    "        self.n = 2**self.m\n",
    "        self.k = sum(binomial(self.m,i) for i in range(self.r + 1))\n",
    "        self.d = 2**(self.m - self.r)\n",
    "        \n",
    "        # Initializing field\n",
    "        self.FF = FiniteField(q)\n",
    "        \n",
    "        self.G = matrix(self.FF, self.k, self.n, lambda i,j : 0)\n",
    "        \n",
    "        print('n, k, d:')\n",
    "        print(self.n,self.k,self.d)\n",
    "        self.G = self.get_G(self.r, self.m)\n",
    "        print(self.G)\n",
    "            \n",
    "    def get_G(self, r, m):\n",
    "        n = 2**m\n",
    "        k = sum(binomial(m,i) for i in range(r + 1))\n",
    "        d = 2**(m - r)\n",
    "\n",
    "        if (n == k):\n",
    "            print('trivial code')\n",
    "            return matrix(self.FF, k, n, lambda i,j : 1) #???\n",
    "\n",
    "        elif (n == d):\n",
    "            print('repetition code')\n",
    "            return matrix(self.FF, k, n, lambda i,j : 1)\n",
    "\n",
    "        elif (d == 2 and n == k + 1):\n",
    "            print('single-parity check code')\n",
    "            PCC = codes.ParityCheckCode(GF(self.q), k)\n",
    "            return PCC.generator_matrix()\n",
    "\n",
    "        else:\n",
    "            print('recursion is needed')\n",
    "            return block_matrix([ [self.get_G(r,m-1), self.get_G(r,m-1)], [0, self.get_G(r-1,m-1)] ])\n",
    "            "
   ]
  },
  {
   "cell_type": "code",
   "execution_count": 2,
   "metadata": {},
   "outputs": [
    {
     "name": "stdout",
     "output_type": "stream",
     "text": [
      "n, k, d:\n",
      "16 11 4\n",
      "recursion is needed\n",
      "single-parity check code\n",
      "single-parity check code\n",
      "recursion is needed\n",
      "single-parity check code\n",
      "single-parity check code\n",
      "repetition code\n",
      "[1 0 0 0 0 0 0 1|1 0 0 0 0 0 0 1]\n",
      "[0 1 0 0 0 0 0 1|0 1 0 0 0 0 0 1]\n",
      "[0 0 1 0 0 0 0 1|0 0 1 0 0 0 0 1]\n",
      "[0 0 0 1 0 0 0 1|0 0 0 1 0 0 0 1]\n",
      "[0 0 0 0 1 0 0 1|0 0 0 0 1 0 0 1]\n",
      "[0 0 0 0 0 1 0 1|0 0 0 0 0 1 0 1]\n",
      "[0 0 0 0 0 0 1 1|0 0 0 0 0 0 1 1]\n",
      "[---------------+---------------]\n",
      "[0 0 0 0 0 0 0 0|1 0 0 1 1 0 0 1]\n",
      "[0 0 0 0 0 0 0 0|0 1 0 1 0 1 0 1]\n",
      "[0 0 0 0 0 0 0 0|0 0 1 1 0 0 1 1]\n",
      "[0 0 0 0 0 0 0 0|0 0 0 0 1 1 1 1]\n"
     ]
    }
   ],
   "source": [
    "C = ReedMullerCode(2,4,2)"
   ]
  },
  {
   "cell_type": "code",
   "execution_count": null,
   "metadata": {},
   "outputs": [],
   "source": []
  }
 ],
 "metadata": {
  "kernelspec": {
   "display_name": "SageMath 9.4",
   "language": "sage",
   "name": "sagemath-9.4"
  },
  "language_info": {
   "codemirror_mode": {
    "name": "ipython",
    "version": 3
   },
   "file_extension": ".py",
   "mimetype": "text/x-python",
   "name": "python",
   "nbconvert_exporter": "python",
   "pygments_lexer": "ipython3",
   "version": "3.9.5"
  }
 },
 "nbformat": 4,
 "nbformat_minor": 4
}
