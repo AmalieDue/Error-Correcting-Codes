{
 "cells": [
  {
   "cell_type": "markdown",
   "metadata": {},
   "source": [
    "## BCH code"
   ]
  },
  {
   "cell_type": "code",
   "execution_count": 1,
   "metadata": {},
   "outputs": [],
   "source": [
    "class BCHCode:\n",
    "    \n",
    "    def __init__(self, n, q, m, ell):\n",
    "        \n",
    "        # Error handling, check whether q^m is prime power, ...\n",
    "        \n",
    "        if not (k <= n):\n",
    "            raise ValueError('Invalid values for n and k')\n",
    "            \n",
    "        if (q == 2 and (n == 0) % 2):\n",
    "            raise ValueError('Invalid input values: gcd(n,q) != 1.')\n",
    "            \n",
    "        self.n = n\n",
    "        self.k = k\n",
    "        self.q = q\n",
    "        self.m = m\n",
    "        self.ell = ell\n",
    "        \n",
    "        # define d and tau\n",
    "        \n",
    "        # Initialize field\n",
    "        F.<a> = GF(self.q**self.m,\"a\") # a is primitive element\n",
    "        self.F = F\n",
    "        self.x = PolynomialRing(self.F,\"x\").gen()\n",
    "        \n",
    "        # Constructing generator matrix\n",
    "        self.cosets = self.cyclotomic_cosets(self.n, self.q, self.ell)\n",
    "        \n",
    "        self.generator_poly = self.BCH_generator_polynomial(self.F, self.x, a, self.ell, self.cosets)\n",
    "        \n",
    "        if not (self.generator_poly.divides(self.x**self.n - 1)):\n",
    "            raise ValueError('generator_poly is not a generator polynomial')\n",
    "            \n",
    "        self.C = codes.CyclicCode(generator_pol = self.generator_poly, length = self.n)\n",
    "        self.G = self.C.generator_matrix()\n",
    "        self.H = self.C.parity_check_matrix()\n",
    "        \n",
    "        print(\"Generator matrix:\")\n",
    "        print(self.G)\n",
    "        print(\"Parity check matrix:\")\n",
    "        print(self.H)\n",
    "        \n",
    "        \n",
    "    def cyclotomic_cosets(self, n,q,ell):\n",
    "        # compute cyclotomic cosets\n",
    "    \n",
    "        cosets = [0]*ell\n",
    "\n",
    "        for i in range(0,ell):\n",
    "            cosets[i] = [(i * q**j) % n for j in range(0,n-1)]\n",
    "            cosets[i] = list(set(cosets[i]))\n",
    "            cosets[i].sort()\n",
    "        return cosets\n",
    "\n",
    "    def minimal_polynomial(self, coset, x, a):\n",
    "        # compute minimal polynomial from one coset\n",
    "        poly = 1\n",
    "        for j in range(len(coset)):\n",
    "            poly *= (x - a**coset[j])\n",
    "        return poly\n",
    "\n",
    "    def BCH_generator_polynomial(self, F, x, a, ell, cosets):\n",
    "        # compute generator polynomial\n",
    "        poly = self.minimal_polynomial(cosets[1], x, a)\n",
    "        for i in range(2,ell):\n",
    "            poly = LCM(poly,self.minimal_polynomial(cosets[i],x,a))\n",
    "        return poly\n",
    "    \n",
    "    #def Encoding(...)\n",
    "    \n",
    "    #def EncodeChunk(...)\n",
    "    \n",
    "    \n",
    "    #def Decoding(...)\n",
    "    \n",
    "    #def DecodeChunk(...)\n",
    "        \n",
    "        \n",
    "        "
   ]
  },
  {
   "cell_type": "code",
   "execution_count": 2,
   "metadata": {},
   "outputs": [
    {
     "name": "stdout",
     "output_type": "stream",
     "text": [
      "Generator matrix:\n",
      "[1 1 1 0 1 1 0 0 1 0 1 0 0 0 0]\n",
      "[0 1 1 1 0 1 1 0 0 1 0 1 0 0 0]\n",
      "[0 0 1 1 1 0 1 1 0 0 1 0 1 0 0]\n",
      "[0 0 0 1 1 1 0 1 1 0 0 1 0 1 0]\n",
      "[0 0 0 0 1 1 1 0 1 1 0 0 1 0 1]\n",
      "Parity check matrix:\n",
      "[1 0 1 0 1 1 0 0 0 0 0 0 0 0 0]\n",
      "[0 1 0 1 0 1 1 0 0 0 0 0 0 0 0]\n",
      "[0 0 1 0 1 0 1 1 0 0 0 0 0 0 0]\n",
      "[0 0 0 1 0 1 0 1 1 0 0 0 0 0 0]\n",
      "[0 0 0 0 1 0 1 0 1 1 0 0 0 0 0]\n",
      "[0 0 0 0 0 1 0 1 0 1 1 0 0 0 0]\n",
      "[0 0 0 0 0 0 1 0 1 0 1 1 0 0 0]\n",
      "[0 0 0 0 0 0 0 1 0 1 0 1 1 0 0]\n",
      "[0 0 0 0 0 0 0 0 1 0 1 0 1 1 0]\n",
      "[0 0 0 0 0 0 0 0 0 1 0 1 0 1 1]\n"
     ]
    }
   ],
   "source": [
    "code = BCHCode(n = 15, k = 5, q = 2, m = 4, ell = 6)"
   ]
  },
  {
   "cell_type": "code",
   "execution_count": null,
   "metadata": {},
   "outputs": [],
   "source": []
  },
  {
   "cell_type": "code",
   "execution_count": null,
   "metadata": {},
   "outputs": [],
   "source": []
  }
 ],
 "metadata": {
  "kernelspec": {
   "display_name": "SageMath 9.4",
   "language": "sage",
   "name": "sagemath-9.4"
  },
  "language_info": {
   "codemirror_mode": {
    "name": "ipython",
    "version": 3
   },
   "file_extension": ".py",
   "mimetype": "text/x-python",
   "name": "python",
   "nbconvert_exporter": "python",
   "pygments_lexer": "ipython3",
   "version": "3.9.5"
  }
 },
 "nbformat": 4,
 "nbformat_minor": 4
}
