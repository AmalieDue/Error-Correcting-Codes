{
 "cells": [
  {
   "cell_type": "markdown",
   "metadata": {},
   "source": [
    "## Repetition code"
   ]
  },
  {
   "cell_type": "code",
   "execution_count": 1,
   "metadata": {},
   "outputs": [],
   "source": [
    "class RepetitionCode:\n",
    "    \n",
    "    def __init__(self, n, k, q):\n",
    "        \n",
    "        if not (k == 1 and q == 2 and k <= n):\n",
    "            raise ValueError('Invalid values for n, k, and q')\n",
    "            \n",
    "        self.n = n\n",
    "        self.k = k\n",
    "        self.q = q\n",
    "        \n",
    "        self.d = self.n\n",
    "        \n",
    "        self.tau = floor((self.d-1)/2)\n",
    "        \n",
    "        # Initializing field\n",
    "        self.FF = FiniteField(q)\n",
    "        \n",
    "        # Constructing generator matrix\n",
    "        self.G = matrix(self.FF, k, n, lambda i,j : 1)\n",
    "        \n",
    "        \n",
    "    def Encoding(self, m):\n",
    "        \n",
    "        r = []\n",
    "        # Encoding each chunk of size k\n",
    "        for i in range(0, len(m), self.k):\n",
    "            r.extend(self.EncodeChunk(m[i:i+self.k]))\n",
    "        \n",
    "        return r\n",
    "    \n",
    "    def EncodeChunk(self, chunk):\n",
    "        # Encodes a chunk of size k with elements from F \n",
    "        \n",
    "        if len(chunk) != self.k:\n",
    "            raise ValueError('Invalid chunk size')\n",
    "        \n",
    "        c = vector(self.FF, chunk) * self.G\n",
    "        return c\n",
    "        \n",
    "    \n",
    "    def Decoding(self, r):\n",
    "        \n",
    "        if (len(r)) % self.n != 0:\n",
    "            raise ValueError('Invalid input size')\n",
    "            \n",
    "        c_hat = []\n",
    "        # Decoding each chunk of size n\n",
    "        for i in range(0, len(r), self.n):\n",
    "            c_hat.extend(self.DecodeChunk(r[i:i+self.n]))\n",
    "            \n",
    "        return c_hat\n",
    "    \n",
    "    def DecodeChunk(self, chunk):\n",
    "        # Decodes a chunk of size n\n",
    "        \n",
    "        if len(chunk) != self.n:\n",
    "            raise ValueError('Invalid chunk size')\n",
    "            \n",
    "        if (chunk.count(1) > floor(self.n / 2)):\n",
    "            return [1]\n",
    "        elif (chunk.count(1) <= floor(self.n / 2)):\n",
    "            return [0]"
   ]
  },
  {
   "cell_type": "markdown",
   "metadata": {},
   "source": [
    "### Binary symmetric channel"
   ]
  },
  {
   "cell_type": "code",
   "execution_count": 2,
   "metadata": {},
   "outputs": [],
   "source": [
    "import numpy as np\n",
    "\n",
    "def SymmetricChannel(c, p, seed = None):\n",
    "    \n",
    "    if not ([(bit == 1 or bit == 0) for bit in c]):\n",
    "        raise ValueError('Invalid input')\n",
    "        \n",
    "    if seed:\n",
    "        np.random.seed(seed)\n",
    "    \n",
    "    # Construct error vector\n",
    "    e = np.random.binomial(1, p, size = len(c))\n",
    "    \n",
    "    r = [0] * len(c)\n",
    "    \n",
    "    for i in range(len(c)):\n",
    "        r[i] = c[i] + e[i]\n",
    "        \n",
    "    return r\n"
   ]
  },
  {
   "cell_type": "markdown",
   "metadata": {},
   "source": [
    "### Example"
   ]
  },
  {
   "cell_type": "code",
   "execution_count": 3,
   "metadata": {},
   "outputs": [
    {
     "name": "stdout",
     "output_type": "stream",
     "text": [
      "In this example, the minimum distance d is 3 (always equal to n for this code),\n",
      "and tau, i.e. the number of uniquely correctable errors, is 1.\n"
     ]
    }
   ],
   "source": [
    "toy_example = RepetitionCode(n=3, k=1, q=2)\n",
    "\n",
    "print(\"In this example, the minimum distance d is {0} (always equal to n for this code),\".format(toy_example.d))\n",
    "print(\"and tau, i.e. the number of uniquely correctable errors, is {0}.\".format(toy_example.tau))"
   ]
  },
  {
   "cell_type": "code",
   "execution_count": 4,
   "metadata": {},
   "outputs": [
    {
     "name": "stdout",
     "output_type": "stream",
     "text": [
      "Encoded message:\n",
      "c = [1, 1, 1, 0, 0, 0, 1, 1, 1, 1, 1, 1, 1, 1, 1, 0, 0, 0]\n"
     ]
    }
   ],
   "source": [
    "m = [1,0,1,1,1,0] # message\n",
    "\n",
    "c = toy_example.Encoding(m)\n",
    "\n",
    "print(\"Encoded message:\")\n",
    "print(\"c =\", c)"
   ]
  },
  {
   "cell_type": "code",
   "execution_count": 5,
   "metadata": {},
   "outputs": [
    {
     "name": "stdout",
     "output_type": "stream",
     "text": [
      "Received message after error channel:\n",
      "r = [1, 1, 1, 0, 0, 0, 1, 1, 1, 1, 1, 1, 1, 1, 1, 1, 0, 0]\n"
     ]
    }
   ],
   "source": [
    "# Apply binary symmetric channel with p = 0.1\n",
    "p = 0.1\n",
    "r = SymmetricChannel(c, p)\n",
    "print(\"Received message after error channel:\")\n",
    "print(\"r =\", r)"
   ]
  },
  {
   "cell_type": "code",
   "execution_count": 6,
   "metadata": {},
   "outputs": [
    {
     "name": "stdout",
     "output_type": "stream",
     "text": [
      "Decoded message:\n",
      "c_hat = [1, 0, 1, 1, 1, 0]\n"
     ]
    }
   ],
   "source": [
    "# Decoding\n",
    "c_hat = toy_example.Decoding(r)\n",
    "\n",
    "print(\"Decoded message:\")\n",
    "print(\"c_hat =\", c_hat)"
   ]
  },
  {
   "cell_type": "code",
   "execution_count": null,
   "metadata": {},
   "outputs": [],
   "source": []
  }
 ],
 "metadata": {
  "kernelspec": {
   "display_name": "SageMath 9.4",
   "language": "sage",
   "name": "sagemath-9.4"
  },
  "language_info": {
   "codemirror_mode": {
    "name": "ipython",
    "version": 3
   },
   "file_extension": ".py",
   "mimetype": "text/x-python",
   "name": "python",
   "nbconvert_exporter": "python",
   "pygments_lexer": "ipython3",
   "version": "3.9.5"
  }
 },
 "nbformat": 4,
 "nbformat_minor": 4
}
