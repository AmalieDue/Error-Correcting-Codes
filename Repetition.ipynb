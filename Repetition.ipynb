{
 "cells": [
  {
   "cell_type": "code",
   "execution_count": 97,
   "metadata": {},
   "outputs": [],
   "source": [
    "class RepetitionCode:\n",
    "    \n",
    "    def __init__(self, n):\n",
    "        \n",
    "        self.n = n\n",
    "        self.k = 1\n",
    "        self.d = n\n",
    "        self.q = 2\n",
    "        \n",
    "        self.F = GF(self.q)\n",
    "        \n",
    "        self.G = matrix(self.F, self.k, self.n, lambda i,j : 1)\n",
    "        \n",
    "    def Encoding(self, message, zeropad = True):\n",
    "        \n",
    "        c = []\n",
    "        \n",
    "        for i in range(len(message)):\n",
    "            c.extend(self.EncodeChunk([message[i]]))\n",
    "            \n",
    "        return vector(self.F, c)\n",
    "    \n",
    "    def EncodeChunk(self, chunk):\n",
    "        \n",
    "        # Encode a chunk of size k\n",
    "        if len(chunk) != self.k:\n",
    "            raise ValueError('Invalid chunk size')\n",
    "            \n",
    "        c = vector(self.F, chunk) * self.G    \n",
    "        \n",
    "        return c\n",
    "    \n",
    "    def Decoding(self, received):\n",
    "        \n",
    "        # Check input size\n",
    "        if len(received) % self.n != 0:\n",
    "            raise ValueError('Invalid input size')\n",
    "            \n",
    "        d = []\n",
    "        \n",
    "        for i in range(0,len(received),self.n):\n",
    "            d.extend(self.DecodeChunk(received[i:i+self.n]))\n",
    "            \n",
    "        return vector(self.F, d)\n",
    "    \n",
    "    def DecodeChunk(self, word):\n",
    "        \n",
    "        if (len(word) != self.n):\n",
    "            raise ValueError('Invalid chunk size')\n",
    "        \n",
    "        decoded = []\n",
    "        \n",
    "        if len(word) == 1:\n",
    "            return word\n",
    "        elif word.hamming_weight() >= floor(len(word) / 2):\n",
    "            return [1]\n",
    "        elif word.hamming_weight() < floor(len(word) / 2):\n",
    "            return [0]\n",
    "        else:\n",
    "            return \"decoding failure\""
   ]
  },
  {
   "cell_type": "code",
   "execution_count": 98,
   "metadata": {},
   "outputs": [],
   "source": [
    "C = RepetitionCode(5)"
   ]
  },
  {
   "cell_type": "code",
   "execution_count": 101,
   "metadata": {},
   "outputs": [],
   "source": [
    "m = [1,0,1,1,1,1,1]"
   ]
  },
  {
   "cell_type": "code",
   "execution_count": 102,
   "metadata": {},
   "outputs": [
    {
     "data": {
      "text/plain": [
       "(1, 0, 1, 1, 1, 1, 1)"
      ]
     },
     "execution_count": 102,
     "metadata": {},
     "output_type": "execute_result"
    }
   ],
   "source": [
    "c = C.Encoding(m)\n",
    "d = C.Decoding(c)\n",
    "d"
   ]
  }
 ],
 "metadata": {
  "kernelspec": {
   "display_name": "SageMath 9.4",
   "language": "sage",
   "name": "sagemath-9.4"
  },
  "language_info": {
   "codemirror_mode": {
    "name": "ipython",
    "version": 3
   },
   "file_extension": ".py",
   "mimetype": "text/x-python",
   "name": "python",
   "nbconvert_exporter": "python",
   "pygments_lexer": "ipython3",
   "version": "3.9.5"
  }
 },
 "nbformat": 4,
 "nbformat_minor": 4
}
